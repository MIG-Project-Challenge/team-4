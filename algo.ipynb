{
 "cells": [
  {
   "cell_type": "code",
   "execution_count": 2,
   "metadata": {},
   "outputs": [
    {
     "name": "stdout",
     "output_type": "stream",
     "text": [
      "                       Open      High       Low     Close  Adj Close  \\\n",
      "Ticker Date                                                            \n",
      "ZJ     2015-07-06  5.699535  5.758382  5.695429  5.747890   5.193889   \n",
      "       2015-07-07  5.742872  5.754733  5.646161  5.733748   5.181111   \n",
      "       2015-07-08  5.678550  5.685849  5.590051  5.591420   5.052501   \n",
      "       2015-07-09  5.649811  5.659391  5.438599  5.477374   4.949447   \n",
      "       2015-07-10  5.562680  5.649811  5.529379  5.623808   5.081768   \n",
      "\n",
      "                      Volume  \n",
      "Ticker Date                   \n",
      "ZJ     2015-07-06  112241600  \n",
      "       2015-07-07  187787200  \n",
      "       2015-07-08  243046400  \n",
      "       2015-07-09  314380000  \n",
      "       2015-07-10  245418000  \n"
     ]
    }
   ],
   "source": [
    "import pandas as pd\n",
    "\n",
    "data = pd.read_csv(\"train_data_50_main.csv\")\n",
    "\n",
    "data['Date'] = pd.to_datetime(data['Date'])\n",
    "\n",
    "# set indexes \n",
    "data.set_index([\"Ticker\", \"Date\"], inplace=True)\n",
    "\n",
    "print(data.head())"
   ]
  },
  {
   "cell_type": "code",
   "execution_count": 19,
   "metadata": {},
   "outputs": [
    {
     "name": "stdout",
     "output_type": "stream",
     "text": [
      "     Ticker1 Ticker2  Correlation\n",
      "0          A       B     0.810095\n",
      "1          A       C     0.907566\n",
      "2          A       D     0.952198\n",
      "3          A       E     0.907681\n",
      "4          A       F     0.873254\n",
      "...      ...     ...          ...\n",
      "1220      ZU      ZW     0.725342\n",
      "1221      ZU      ZX     0.725276\n",
      "1222      ZV      ZW     0.961626\n",
      "1223      ZV      ZX     0.959266\n",
      "1224      ZW      ZX     0.966088\n",
      "\n",
      "[1225 rows x 3 columns]\n"
     ]
    }
   ],
   "source": [
    "# Get the tickers\n",
    "tickers = data.index.get_level_values(\"Ticker\").unique()\n",
    "\n",
    "# Print the sorted tickers\n",
    "tickers = sorted(tickers)\n",
    "\n",
    "tick_count = 0\n",
    "corrs = []\n",
    "ticker1 = []\n",
    "ticker2 = []\n",
    "# Want to analyze the stocks that move together or not together\n",
    "for i in range(tick_count, len(tickers) - 1):\n",
    "    for j in range(i + 1, len(tickers)):\n",
    "        a_series = pd.Series(data.loc[tickers[i]][\"Close\"])\n",
    "        b_series = pd.Series(data.loc[tickers[j]][\"Close\"])\n",
    "        # ------FOR DEBUG PRUPOSES------\n",
    "        # print(f\"A_SERIES: \\n{a_series}\")\n",
    "        # print(f\"B_SERIES: \\n{b_series}\")\n",
    "        # print(f\"{tickers[i]} and {tickers[j]}: {a_series.corr(b_series)}\")\n",
    "        corr = a_series.corr(b_series)\n",
    "        corrs.append(corr)\n",
    "        ticker1.append(tickers[i])\n",
    "        ticker2.append(tickers[j])\n",
    "\n",
    "correlations = pd.DataFrame({\"Ticker1\": ticker1, \"Ticker2\": ticker2, \"Correlation\": corrs})\n",
    "print(correlations)\n",
    "\n"
   ]
  },
  {
   "cell_type": "code",
   "execution_count": 27,
   "metadata": {},
   "outputs": [
    {
     "name": "stdout",
     "output_type": "stream",
     "text": [
      "     Ticker1 Ticker2  Correlation\n",
      "410        J       P     0.999864\n",
      "23         A       Y     0.997191\n",
      "537        M      ZC     0.990431\n",
      "1013      ZC      ZW     0.988085\n",
      "188        D      ZW     0.985844\n",
      "...      ...     ...          ...\n",
      "166        D      ZA    -0.850014\n",
      "876        X      ZA    -0.854691\n",
      "957       ZA      ZJ    -0.857308\n",
      "970       ZA      ZW    -0.861462\n",
      "705        R      ZA    -0.877071\n",
      "\n",
      "[1225 rows x 3 columns]\n",
      "     Ticker1 Ticker2  Correlation\n",
      "410        J       P     0.999864\n",
      "23         A       Y     0.997191\n",
      "537        M      ZC     0.990431\n",
      "1013      ZC      ZW     0.988085\n",
      "188        D      ZW     0.985844\n",
      "403        I      ZW     0.984256\n",
      "    Ticker1 Ticker2  Correlation\n",
      "950      ZA      ZC    -0.847513\n",
      "166       D      ZA    -0.850014\n",
      "876       X      ZA    -0.854691\n",
      "957      ZA      ZJ    -0.857308\n",
      "970      ZA      ZW    -0.861462\n",
      "705       R      ZA    -0.877071\n"
     ]
    }
   ],
   "source": [
    "# Sort entire correlations df by the correlation values\n",
    "correlations = correlations.sort_values(by=\"Correlation\", ascending=False)\n",
    "print(correlations)\n",
    "\n",
    "# Capture the least and most correlated tickers\n",
    "top_correlated_tickers = correlations.iloc[:6]\n",
    "least_correlated_tickers = correlations.iloc[len(correlations.index) - 6:len(correlations.index)]\n",
    "print(top_correlated_tickers)\n",
    "print(least_correlated_tickers)"
   ]
  }
 ],
 "metadata": {
  "kernelspec": {
   "display_name": "mig",
   "language": "python",
   "name": "python3"
  },
  "language_info": {
   "codemirror_mode": {
    "name": "ipython",
    "version": 3
   },
   "file_extension": ".py",
   "mimetype": "text/x-python",
   "name": "python",
   "nbconvert_exporter": "python",
   "pygments_lexer": "ipython3",
   "version": "3.11.5"
  },
  "orig_nbformat": 4
 },
 "nbformat": 4,
 "nbformat_minor": 2
}
